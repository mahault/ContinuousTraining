{
  "nbformat": 4,
  "nbformat_minor": 0,
  "metadata": {
    "colab": {
      "provenance": [],
      "authorship_tag": "ABX9TyN2c5JGLj/n9kK/NOYZFr3Y",
      "include_colab_link": true
    },
    "kernelspec": {
      "name": "python3",
      "display_name": "Python 3"
    },
    "language_info": {
      "name": "python"
    }
  },
  "cells": [
    {
      "cell_type": "markdown",
      "metadata": {
        "id": "view-in-github",
        "colab_type": "text"
      },
      "source": [
        "<a href=\"https://colab.research.google.com/github/mahault/ContinuousTraining/blob/main/Numpy_Index.ipynb\" target=\"_parent\"><img src=\"https://colab.research.google.com/assets/colab-badge.svg\" alt=\"Open In Colab\"/></a>"
      ]
    },
    {
      "cell_type": "code",
      "execution_count": 1,
      "metadata": {
        "colab": {
          "base_uri": "https://localhost:8080/"
        },
        "id": "WlXrr091UqIe",
        "outputId": "046e40c6-f813-4464-e8e3-897db6a624d0"
      },
      "outputs": [
        {
          "output_type": "stream",
          "name": "stdout",
          "text": [
            "Value at index 8: 8\n"
          ]
        }
      ],
      "source": [
        "import numpy as np  # Importing NumPy\n",
        "\n",
        "# Creating an array with np.arange with values from 0 to 10\n",
        "arange_array = np.arange(11)\n",
        "\n",
        "# Grabbing the value at index 8\n",
        "value_at_index_8 = arange_array[8]\n",
        "\n",
        "print(\"Value at index 8:\", value_at_index_8)"
      ]
    },
    {
      "cell_type": "code",
      "source": [
        "# Grabbing the values at indices 1 through 5\n",
        "values_1_to_5 = arange_array[1:6]\n",
        "\n",
        "print(\"Values from index 1 to 5:\", values_1_to_5)"
      ],
      "metadata": {
        "colab": {
          "base_uri": "https://localhost:8080/"
        },
        "id": "d5CToYrTUrQ2",
        "outputId": "97730f98-5e0e-4097-9ab6-a28c598b2258"
      },
      "execution_count": 2,
      "outputs": [
        {
          "output_type": "stream",
          "name": "stdout",
          "text": [
            "Values from index 1 to 5: [1 2 3 4 5]\n"
          ]
        }
      ]
    },
    {
      "cell_type": "code",
      "source": [
        "# Grabbing all values up to (but not including) index 5\n",
        "values_until_5 = arange_array[:5]\n",
        "\n",
        "# Grabbing all values after (and including) index 5\n",
        "values_after_5 = arange_array[5:]\n",
        "\n",
        "print(\"Values up to index 5:\", values_until_5)\n",
        "print(\"Values after index 5:\", values_after_5)"
      ],
      "metadata": {
        "colab": {
          "base_uri": "https://localhost:8080/"
        },
        "id": "M877CoSMU4XV",
        "outputId": "b1236241-0df9-4ee4-9e84-911cf579c4f8"
      },
      "execution_count": 3,
      "outputs": [
        {
          "output_type": "stream",
          "name": "stdout",
          "text": [
            "Values up to index 5: [0 1 2 3 4]\n",
            "Values after index 5: [ 5  6  7  8  9 10]\n"
          ]
        }
      ]
    },
    {
      "cell_type": "code",
      "source": [
        "# Broadcasting a single value (e.g., 99) to the first 5 values of the array\n",
        "arange_array[:5] = 99\n",
        "\n",
        "print(\"Array after broadcasting a single value to the first 5 elements:\", arange_array)"
      ],
      "metadata": {
        "colab": {
          "base_uri": "https://localhost:8080/"
        },
        "id": "xNx82Fh6V9lP",
        "outputId": "4bcb8a18-e7be-4937-b8bc-d1a205ec7733"
      },
      "execution_count": 4,
      "outputs": [
        {
          "output_type": "stream",
          "name": "stdout",
          "text": [
            "Array after broadcasting a single value to the first 5 elements: [99 99 99 99 99  5  6  7  8  9 10]\n"
          ]
        }
      ]
    },
    {
      "cell_type": "code",
      "source": [
        "# Getting a slice from index 3 to 8\n",
        "slice_array = arange_array[3:9]\n",
        "\n",
        "print(\"Slice from index 3 to 8:\", slice_array)"
      ],
      "metadata": {
        "colab": {
          "base_uri": "https://localhost:8080/"
        },
        "id": "E6tTizsgWHnu",
        "outputId": "620b6ddc-8675-4374-94c1-d43235c94642"
      },
      "execution_count": 5,
      "outputs": [
        {
          "output_type": "stream",
          "name": "stdout",
          "text": [
            "Slice from index 3 to 8: [99 99  5  6  7  8]\n"
          ]
        }
      ]
    },
    {
      "cell_type": "code",
      "source": [
        "# Resetting the array to its original state with np.arange\n",
        "original_array = np.arange(11)\n",
        "\n",
        "# Making a copy of the array\n",
        "copy_array = original_array.copy()\n",
        "\n",
        "# Setting all elements of the copy to 100\n",
        "copy_array[:] = 100\n",
        "\n",
        "print(\"Original array:\", original_array)\n",
        "print(\"Modified copy with all elements set to 100:\", copy_array)"
      ],
      "metadata": {
        "colab": {
          "base_uri": "https://localhost:8080/"
        },
        "id": "FfWUfTeiWQS1",
        "outputId": "89e19dad-1613-4f45-858d-a52d0dd2354f"
      },
      "execution_count": 6,
      "outputs": [
        {
          "output_type": "stream",
          "name": "stdout",
          "text": [
            "Original array: [ 0  1  2  3  4  5  6  7  8  9 10]\n",
            "Modified copy with all elements set to 100: [100 100 100 100 100 100 100 100 100 100 100]\n"
          ]
        }
      ]
    },
    {
      "cell_type": "code",
      "source": [
        "# Creating a 2D array with 3 lists of 3 numbers each\n",
        "two_d_array = np.array([[1, 2, 3], [4, 5, 6], [7, 8, 9]])\n",
        "\n",
        "# Finding the shape of the 2D array\n",
        "array_shape = two_d_array.shape\n",
        "\n",
        "print(\"2D Array:\\n\", two_d_array)\n",
        "print(\"Shape of the 2D array:\", array_shape)"
      ],
      "metadata": {
        "colab": {
          "base_uri": "https://localhost:8080/"
        },
        "id": "kpy4Cd-9WaeR",
        "outputId": "40ab45d4-a4ec-468f-bd5c-5c71115a04c0"
      },
      "execution_count": 7,
      "outputs": [
        {
          "output_type": "stream",
          "name": "stdout",
          "text": [
            "2D Array:\n",
            " [[1 2 3]\n",
            " [4 5 6]\n",
            " [7 8 9]]\n",
            "Shape of the 2D array: (3, 3)\n"
          ]
        }
      ]
    },
    {
      "cell_type": "code",
      "source": [
        "first_row = two_d_array[0]\n",
        "\n",
        "# Getting the last row\n",
        "last_row = two_d_array[-1]\n",
        "\n",
        "print(\"First row:\", first_row)\n",
        "print(\"Last row:\", last_row)"
      ],
      "metadata": {
        "colab": {
          "base_uri": "https://localhost:8080/"
        },
        "id": "EMQcXtgUZkYd",
        "outputId": "1994f33d-412a-4a2b-f261-3f868f154bbf"
      },
      "execution_count": 8,
      "outputs": [
        {
          "output_type": "stream",
          "name": "stdout",
          "text": [
            "First row: [1 2 3]\n",
            "Last row: [7 8 9]\n"
          ]
        }
      ]
    },
    {
      "cell_type": "code",
      "source": [
        "# Getting the element from the first row and second column\n",
        "element = two_d_array[0, 1]\n",
        "\n",
        "print(\"Element at first row and second column:\", element)"
      ],
      "metadata": {
        "colab": {
          "base_uri": "https://localhost:8080/"
        },
        "id": "eB-OXPEhZuUT",
        "outputId": "b68df85a-1780-43bd-9655-97db3ad93535"
      },
      "execution_count": 9,
      "outputs": [
        {
          "output_type": "stream",
          "name": "stdout",
          "text": [
            "Element at first row and second column: 2\n"
          ]
        }
      ]
    },
    {
      "cell_type": "code",
      "source": [
        "# Slicing for rows 0 and 1, including all columns\n",
        "rows_0_and_1 = two_d_array[0:2, :]\n",
        "\n",
        "print(\"Rows 0 and 1:\\n\", rows_0_and_1)"
      ],
      "metadata": {
        "colab": {
          "base_uri": "https://localhost:8080/"
        },
        "id": "6vM6RbQkcIdH",
        "outputId": "adc2c46a-58e7-4c14-e1f8-977fa0e610d9"
      },
      "execution_count": 10,
      "outputs": [
        {
          "output_type": "stream",
          "name": "stdout",
          "text": [
            "Rows 0 and 1:\n",
            " [[1 2 3]\n",
            " [4 5 6]]\n"
          ]
        }
      ]
    },
    {
      "cell_type": "code",
      "source": [
        "# Creating an array from 1 to 11\n",
        "array = np.arange(1, 12)\n",
        "\n",
        "# Finding where the array is greater than 4\n",
        "greater_than_4 = array > 4\n",
        "\n",
        "print(\"Array:\", array)\n",
        "print(\"Where array is greater than 4:\", greater_than_4)"
      ],
      "metadata": {
        "colab": {
          "base_uri": "https://localhost:8080/"
        },
        "id": "j2VSH78ccUuu",
        "outputId": "d92c08c9-63fc-4af4-a342-fe70d982dc4f"
      },
      "execution_count": 11,
      "outputs": [
        {
          "output_type": "stream",
          "name": "stdout",
          "text": [
            "Array: [ 1  2  3  4  5  6  7  8  9 10 11]\n",
            "Where array is greater than 4: [False False False False  True  True  True  True  True  True  True]\n"
          ]
        }
      ]
    },
    {
      "cell_type": "code",
      "source": [
        "# Getting the values greater than 4\n",
        "values_greater_than_4 = array[greater_than_4]\n",
        "\n",
        "print(\"Values greater than 4:\", values_greater_than_4)"
      ],
      "metadata": {
        "colab": {
          "base_uri": "https://localhost:8080/"
        },
        "id": "NXKYJViqcrTA",
        "outputId": "e221a995-bf83-4544-c5b8-9607ea37d9ee"
      },
      "execution_count": 12,
      "outputs": [
        {
          "output_type": "stream",
          "name": "stdout",
          "text": [
            "Values greater than 4: [ 5  6  7  8  9 10 11]\n"
          ]
        }
      ]
    },
    {
      "cell_type": "code",
      "source": [
        "# Boolean array where the condition (values greater than 4) is True\n",
        "bool_array = array > 4\n",
        "\n",
        "# Setting values within the array that are greater than 4 to a new value, e.g., 100\n",
        "array[bool_array] = 100\n",
        "\n",
        "print(\"Modified array where values greater than 4 are set to 100:\", array)"
      ],
      "metadata": {
        "colab": {
          "base_uri": "https://localhost:8080/"
        },
        "id": "LBjjw5aqcsxu",
        "outputId": "66f3c00d-6e81-4f07-d9cc-895f45a6b8aa"
      },
      "execution_count": 13,
      "outputs": [
        {
          "output_type": "stream",
          "name": "stdout",
          "text": [
            "Modified array where values greater than 4 are set to 100: [  1   2   3   4 100 100 100 100 100 100 100]\n"
          ]
        }
      ]
    },
    {
      "cell_type": "code",
      "source": [],
      "metadata": {
        "id": "2KxygwNdcw09"
      },
      "execution_count": null,
      "outputs": []
    }
  ]
}