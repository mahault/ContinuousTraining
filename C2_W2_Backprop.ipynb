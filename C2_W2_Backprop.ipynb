{
  "cells": [
    {
      "cell_type": "markdown",
      "metadata": {
        "id": "view-in-github",
        "colab_type": "text"
      },
      "source": [
        "<a href=\"https://colab.research.google.com/github/mahault/ContinuousTraining/blob/main/C2_W2_Backprop.ipynb\" target=\"_parent\"><img src=\"https://colab.research.google.com/assets/colab-badge.svg\" alt=\"Open In Colab\"/></a>"
      ]
    },
    {
      "cell_type": "markdown",
      "metadata": {
        "id": "7mvGJ1CtNMxy"
      },
      "source": [
        "# Optional Lab: Back propagation using a computation graph\n",
        "Working through this lab will give you insight into a key algorithm used by most machine learning frameworks. Gradient descent requires the derivative of the cost with respect to each parameter in the network.  Neural networks can have millions or even billions of parameters. The *back propagation* algorithm is used to compute those derivatives. *Computation graphs* are used to simplify the operation. Let's dig into this below."
      ],
      "id": "7mvGJ1CtNMxy"
    },
    {
      "cell_type": "code",
      "execution_count": 1,
      "metadata": {
        "id": "pYuRurIjNMx2"
      },
      "outputs": [],
      "source": [
        "from sympy import *\n",
        "import numpy as np\n",
        "import re\n",
        "# %matplotlib widget\n",
        "import matplotlib.pyplot as plt\n",
        "from matplotlib.widgets import TextBox\n",
        "from matplotlib.widgets import Button\n",
        "import ipywidgets as widgets\n",
        "from lab_utils_backprop import *"
      ],
      "id": "pYuRurIjNMx2"
    },
    {
      "cell_type": "markdown",
      "metadata": {
        "id": "UqcQyvNXNMx3"
      },
      "source": [
        "## Computation Graph\n",
        "A computation graph simplifies the computation of complex derivatives by breaking them into smaller steps. Let's see how this works.\n",
        "\n",
        "Let's calculate the derivative of this slightly complex expression, $J = (2+3w)^2$. We would like to find the derivative of $J$ with respect to $w$ or $\\frac{\\partial J}{\\partial w}$."
      ],
      "id": "UqcQyvNXNMx3"
    },
    {
      "cell_type": "code",
      "execution_count": 2,
      "metadata": {
        "colab": {
          "base_uri": "https://localhost:8080/",
          "height": 304
        },
        "id": "vcPx-gtbNMx3",
        "outputId": "3ecaaaf4-0e6e-4365-9290-f2c5fdc443f0"
      },
      "outputs": [
        {
          "output_type": "error",
          "ename": "FileNotFoundError",
          "evalue": "[Errno 2] No such file or directory: './images/C2_W2_BP_network0.PNG'",
          "traceback": [
            "\u001b[0;31m---------------------------------------------------------------------------\u001b[0m",
            "\u001b[0;31mFileNotFoundError\u001b[0m                         Traceback (most recent call last)",
            "\u001b[0;32m<ipython-input-2-1edc840c3291>\u001b[0m in \u001b[0;36m<cell line: 2>\u001b[0;34m()\u001b[0m\n\u001b[1;32m      1\u001b[0m \u001b[0mplt\u001b[0m\u001b[0;34m.\u001b[0m\u001b[0mclose\u001b[0m\u001b[0;34m(\u001b[0m\u001b[0;34m\"all\"\u001b[0m\u001b[0;34m)\u001b[0m\u001b[0;34m\u001b[0m\u001b[0;34m\u001b[0m\u001b[0m\n\u001b[0;32m----> 2\u001b[0;31m \u001b[0mplt_network\u001b[0m\u001b[0;34m(\u001b[0m\u001b[0mconfig_nw0\u001b[0m\u001b[0;34m,\u001b[0m \u001b[0;34m\"./images/C2_W2_BP_network0.PNG\"\u001b[0m\u001b[0;34m)\u001b[0m\u001b[0;34m\u001b[0m\u001b[0;34m\u001b[0m\u001b[0m\n\u001b[0m",
            "\u001b[0;32m/content/lab_utils_backprop.py\u001b[0m in \u001b[0;36m__init__\u001b[0;34m(self, fn, image, out)\u001b[0m\n\u001b[1;32m    115\u001b[0m         \u001b[0;31m#with self.out:\u001b[0m\u001b[0;34m\u001b[0m\u001b[0;34m\u001b[0m\u001b[0m\n\u001b[1;32m    116\u001b[0m         \u001b[0;31m#    print(\"hello world\")\u001b[0m\u001b[0;34m\u001b[0m\u001b[0;34m\u001b[0m\u001b[0m\n\u001b[0;32m--> 117\u001b[0;31m         \u001b[0mimg\u001b[0m \u001b[0;34m=\u001b[0m \u001b[0mplt\u001b[0m\u001b[0;34m.\u001b[0m\u001b[0mimread\u001b[0m\u001b[0;34m(\u001b[0m\u001b[0mimage\u001b[0m\u001b[0;34m)\u001b[0m\u001b[0;34m\u001b[0m\u001b[0;34m\u001b[0m\u001b[0m\n\u001b[0m\u001b[1;32m    118\u001b[0m         \u001b[0mself\u001b[0m\u001b[0;34m.\u001b[0m\u001b[0mfig\u001b[0m\u001b[0;34m,\u001b[0m \u001b[0mself\u001b[0m\u001b[0;34m.\u001b[0m\u001b[0max\u001b[0m \u001b[0;34m=\u001b[0m \u001b[0mplt\u001b[0m\u001b[0;34m.\u001b[0m\u001b[0msubplots\u001b[0m\u001b[0;34m(\u001b[0m\u001b[0mfigsize\u001b[0m\u001b[0;34m=\u001b[0m\u001b[0mself\u001b[0m\u001b[0;34m.\u001b[0m\u001b[0msizefig\u001b[0m\u001b[0;34m(\u001b[0m\u001b[0mimg\u001b[0m\u001b[0;34m)\u001b[0m\u001b[0;34m)\u001b[0m\u001b[0;34m\u001b[0m\u001b[0;34m\u001b[0m\u001b[0m\n\u001b[1;32m    119\u001b[0m         \u001b[0mboxes\u001b[0m \u001b[0;34m=\u001b[0m \u001b[0mfn\u001b[0m\u001b[0;34m(\u001b[0m\u001b[0mself\u001b[0m\u001b[0;34m.\u001b[0m\u001b[0max\u001b[0m\u001b[0;34m)\u001b[0m\u001b[0;34m\u001b[0m\u001b[0;34m\u001b[0m\u001b[0m\n",
            "\u001b[0;32m/usr/local/lib/python3.10/dist-packages/matplotlib/pyplot.py\u001b[0m in \u001b[0;36mimread\u001b[0;34m(fname, format)\u001b[0m\n\u001b[1;32m   2193\u001b[0m \u001b[0;34m@\u001b[0m\u001b[0m_copy_docstring_and_deprecators\u001b[0m\u001b[0;34m(\u001b[0m\u001b[0mmatplotlib\u001b[0m\u001b[0;34m.\u001b[0m\u001b[0mimage\u001b[0m\u001b[0;34m.\u001b[0m\u001b[0mimread\u001b[0m\u001b[0;34m)\u001b[0m\u001b[0;34m\u001b[0m\u001b[0;34m\u001b[0m\u001b[0m\n\u001b[1;32m   2194\u001b[0m \u001b[0;32mdef\u001b[0m \u001b[0mimread\u001b[0m\u001b[0;34m(\u001b[0m\u001b[0mfname\u001b[0m\u001b[0;34m,\u001b[0m \u001b[0mformat\u001b[0m\u001b[0;34m=\u001b[0m\u001b[0;32mNone\u001b[0m\u001b[0;34m)\u001b[0m\u001b[0;34m:\u001b[0m\u001b[0;34m\u001b[0m\u001b[0;34m\u001b[0m\u001b[0m\n\u001b[0;32m-> 2195\u001b[0;31m     \u001b[0;32mreturn\u001b[0m \u001b[0mmatplotlib\u001b[0m\u001b[0;34m.\u001b[0m\u001b[0mimage\u001b[0m\u001b[0;34m.\u001b[0m\u001b[0mimread\u001b[0m\u001b[0;34m(\u001b[0m\u001b[0mfname\u001b[0m\u001b[0;34m,\u001b[0m \u001b[0mformat\u001b[0m\u001b[0;34m)\u001b[0m\u001b[0;34m\u001b[0m\u001b[0;34m\u001b[0m\u001b[0m\n\u001b[0m\u001b[1;32m   2196\u001b[0m \u001b[0;34m\u001b[0m\u001b[0m\n\u001b[1;32m   2197\u001b[0m \u001b[0;34m\u001b[0m\u001b[0m\n",
            "\u001b[0;32m/usr/local/lib/python3.10/dist-packages/matplotlib/image.py\u001b[0m in \u001b[0;36mimread\u001b[0;34m(fname, format)\u001b[0m\n\u001b[1;32m   1561\u001b[0m             \u001b[0;34m\"``np.array(PIL.Image.open(urllib.request.urlopen(url)))``.\"\u001b[0m\u001b[0;34m\u001b[0m\u001b[0;34m\u001b[0m\u001b[0m\n\u001b[1;32m   1562\u001b[0m             )\n\u001b[0;32m-> 1563\u001b[0;31m     \u001b[0;32mwith\u001b[0m \u001b[0mimg_open\u001b[0m\u001b[0;34m(\u001b[0m\u001b[0mfname\u001b[0m\u001b[0;34m)\u001b[0m \u001b[0;32mas\u001b[0m \u001b[0mimage\u001b[0m\u001b[0;34m:\u001b[0m\u001b[0;34m\u001b[0m\u001b[0;34m\u001b[0m\u001b[0m\n\u001b[0m\u001b[1;32m   1564\u001b[0m         return (_pil_png_to_float_array(image)\n\u001b[1;32m   1565\u001b[0m                 \u001b[0;32mif\u001b[0m \u001b[0misinstance\u001b[0m\u001b[0;34m(\u001b[0m\u001b[0mimage\u001b[0m\u001b[0;34m,\u001b[0m \u001b[0mPIL\u001b[0m\u001b[0;34m.\u001b[0m\u001b[0mPngImagePlugin\u001b[0m\u001b[0;34m.\u001b[0m\u001b[0mPngImageFile\u001b[0m\u001b[0;34m)\u001b[0m \u001b[0;32melse\u001b[0m\u001b[0;34m\u001b[0m\u001b[0;34m\u001b[0m\u001b[0m\n",
            "\u001b[0;32m/usr/local/lib/python3.10/dist-packages/PIL/ImageFile.py\u001b[0m in \u001b[0;36m__init__\u001b[0;34m(self, fp, filename)\u001b[0m\n\u001b[1;32m    103\u001b[0m         \u001b[0;32mif\u001b[0m \u001b[0mis_path\u001b[0m\u001b[0;34m(\u001b[0m\u001b[0mfp\u001b[0m\u001b[0;34m)\u001b[0m\u001b[0;34m:\u001b[0m\u001b[0;34m\u001b[0m\u001b[0;34m\u001b[0m\u001b[0m\n\u001b[1;32m    104\u001b[0m             \u001b[0;31m# filename\u001b[0m\u001b[0;34m\u001b[0m\u001b[0;34m\u001b[0m\u001b[0m\n\u001b[0;32m--> 105\u001b[0;31m             \u001b[0mself\u001b[0m\u001b[0;34m.\u001b[0m\u001b[0mfp\u001b[0m \u001b[0;34m=\u001b[0m \u001b[0mopen\u001b[0m\u001b[0;34m(\u001b[0m\u001b[0mfp\u001b[0m\u001b[0;34m,\u001b[0m \u001b[0;34m\"rb\"\u001b[0m\u001b[0;34m)\u001b[0m\u001b[0;34m\u001b[0m\u001b[0;34m\u001b[0m\u001b[0m\n\u001b[0m\u001b[1;32m    106\u001b[0m             \u001b[0mself\u001b[0m\u001b[0;34m.\u001b[0m\u001b[0mfilename\u001b[0m \u001b[0;34m=\u001b[0m \u001b[0mfp\u001b[0m\u001b[0;34m\u001b[0m\u001b[0;34m\u001b[0m\u001b[0m\n\u001b[1;32m    107\u001b[0m             \u001b[0mself\u001b[0m\u001b[0;34m.\u001b[0m\u001b[0m_exclusive_fp\u001b[0m \u001b[0;34m=\u001b[0m \u001b[0;32mTrue\u001b[0m\u001b[0;34m\u001b[0m\u001b[0;34m\u001b[0m\u001b[0m\n",
            "\u001b[0;31mFileNotFoundError\u001b[0m: [Errno 2] No such file or directory: './images/C2_W2_BP_network0.PNG'"
          ]
        }
      ],
      "source": [
        "plt.close(\"all\")\n",
        "plt_network(config_nw0, \"./images/C2_W2_BP_network0.PNG\")"
      ],
      "id": "vcPx-gtbNMx3"
    },
    {
      "cell_type": "markdown",
      "metadata": {
        "id": "uB7GkN-vNMx3"
      },
      "source": [
        "Above, you can see we broke the expression into two nodes which we can work on independently. If you already have a good understanding of the process from the lecture, you can go ahead and fill in the boxes in the diagram above. You will want to first fill in the blue boxes going left to right and then fill in the green boxes starting on the right and moving to the left.\n",
        "If you have the correct values, the values will show as green or blue. If the value is incorrect, it will be red. Note, the interactive graphic is not particularly robust. If you run into trouble with the interface, run the cell above again to restart.\n",
        "\n",
        "If you are unsure of the process, we will work this example step by step below.\n",
        "\n",
        "### Forward Propagation   \n",
        "Let's calculate the values in the forward direction.\n",
        "\n",
        ">Just a note about this section. It uses global variables and reuses them as the calculation progresses. If you run cells out of order, you may get funny results. If you do, go back to this point and run them in order."
      ],
      "id": "uB7GkN-vNMx3"
    },
    {
      "cell_type": "code",
      "execution_count": 3,
      "metadata": {
        "colab": {
          "base_uri": "https://localhost:8080/"
        },
        "id": "7EU4wArXNMx4",
        "outputId": "8b1388a8-c407-4f16-f5a4-9eec08440eb5"
      },
      "outputs": [
        {
          "output_type": "stream",
          "name": "stdout",
          "text": [
            "a = 11, J = 121\n"
          ]
        }
      ],
      "source": [
        "w = 3\n",
        "a = 2+3*w\n",
        "J = a**2\n",
        "print(f\"a = {a}, J = {J}\")"
      ],
      "id": "7EU4wArXNMx4"
    },
    {
      "cell_type": "markdown",
      "metadata": {
        "id": "NeEWOxeoNMx4"
      },
      "source": [
        "You can fill these values in the blue boxes above."
      ],
      "id": "NeEWOxeoNMx4"
    },
    {
      "cell_type": "markdown",
      "metadata": {
        "tags": [],
        "id": "p6gpmk1aNMx4"
      },
      "source": [
        "### Backprop\n",
        "<img align=\"left\" src=\"./images/C2_W2_BP_network0_j.PNG\"     style=\" width:100px; padding: 10px 20px; \" > Backprop is the algorithm we use to calculate derivatives. As described in the lectures, backprop starts at the right and moves to the left. The first node to consider is $J = a^2 $ and the first step is to find $\\frac{\\partial J}{\\partial a}$\n"
      ],
      "id": "p6gpmk1aNMx4"
    },
    {
      "cell_type": "markdown",
      "metadata": {
        "id": "TXLkzhqgNMx4"
      },
      "source": [
        "### $\\frac{\\partial J}{\\partial a}$\n",
        "#### Arithmetically\n",
        "Find $\\frac{\\partial J}{\\partial a}$ by finding how $J$ changes as a result of a little change in $a$. This is described in detail in the derivatives optional lab."
      ],
      "id": "TXLkzhqgNMx4"
    },
    {
      "cell_type": "code",
      "execution_count": 4,
      "metadata": {
        "colab": {
          "base_uri": "https://localhost:8080/"
        },
        "id": "Z1KxqlQmNMx4",
        "outputId": "b4e4228f-a8b5-41b5-a573-cdd4292c02c6"
      },
      "outputs": [
        {
          "output_type": "stream",
          "name": "stdout",
          "text": [
            "J = 121, J_epsilon = 121.02200099999999, dJ_da ~= k = 22.000999999988835 \n"
          ]
        }
      ],
      "source": [
        "a_epsilon = a + 0.001       # a epsilon\n",
        "J_epsilon = a_epsilon**2    # J_epsilon\n",
        "k = (J_epsilon - J)/0.001   # difference divided by epsilon\n",
        "print(f\"J = {J}, J_epsilon = {J_epsilon}, dJ_da ~= k = {k} \")"
      ],
      "id": "Z1KxqlQmNMx4"
    },
    {
      "cell_type": "markdown",
      "metadata": {
        "id": "LqJGehFCNMx4"
      },
      "source": [
        "$\\frac{\\partial J}{\\partial a}$ is 22 which is $2\\times a$. Our result is not exactly $2 \\times a$ because our epsilon value is not infinitesimally small.\n",
        "#### Symbolically\n",
        "Now, let's use SymPy to calculate derivatives symbolically as we did in the derivatives optional lab. We will prefix the name of the variable with an 's' to indicate this is a *symbolic* variable."
      ],
      "id": "LqJGehFCNMx4"
    },
    {
      "cell_type": "code",
      "execution_count": 5,
      "metadata": {
        "tags": [],
        "colab": {
          "base_uri": "https://localhost:8080/",
          "height": 39
        },
        "id": "LFqdiqn_NMx5",
        "outputId": "c126c852-4041-4213-a34e-4f24c0c3fcb3"
      },
      "outputs": [
        {
          "output_type": "execute_result",
          "data": {
            "text/plain": [
              "a**2"
            ],
            "text/latex": "$\\displaystyle a^{2}$"
          },
          "metadata": {},
          "execution_count": 5
        }
      ],
      "source": [
        "sw,sJ,sa = symbols('w,J,a')\n",
        "sJ = sa**2\n",
        "sJ"
      ],
      "id": "LFqdiqn_NMx5"
    },
    {
      "cell_type": "code",
      "execution_count": 6,
      "metadata": {
        "tags": [],
        "colab": {
          "base_uri": "https://localhost:8080/",
          "height": 37
        },
        "id": "9ousol9UNMx5",
        "outputId": "e76ea5ff-9750-4fc2-a204-4727f0430f20"
      },
      "outputs": [
        {
          "output_type": "execute_result",
          "data": {
            "text/plain": [
              "121"
            ],
            "text/latex": "$\\displaystyle 121$"
          },
          "metadata": {},
          "execution_count": 6
        }
      ],
      "source": [
        "sJ.subs([(sa,a)])"
      ],
      "id": "9ousol9UNMx5"
    },
    {
      "cell_type": "code",
      "execution_count": 7,
      "metadata": {
        "colab": {
          "base_uri": "https://localhost:8080/",
          "height": 39
        },
        "id": "v4lNUhCONMx6",
        "outputId": "8217695d-2fee-478e-82c6-ba769938d86c"
      },
      "outputs": [
        {
          "output_type": "execute_result",
          "data": {
            "text/plain": [
              "2*a"
            ],
            "text/latex": "$\\displaystyle 2 a$"
          },
          "metadata": {},
          "execution_count": 7
        }
      ],
      "source": [
        "dJ_da = diff(sJ, sa)\n",
        "dJ_da"
      ],
      "id": "v4lNUhCONMx6"
    },
    {
      "cell_type": "markdown",
      "metadata": {
        "id": "K8BgSZFKNMx6"
      },
      "source": [
        "So, $\\frac{\\partial J}{\\partial a} = 2a$. When $a=11$, $\\frac{\\partial J}{\\partial a} = 22$. This matches our arithmetic calculation above.\n",
        "If you have not already done so, you can go back to the diagram above and fill in the value for $\\frac{\\partial J}{\\partial a}$."
      ],
      "id": "K8BgSZFKNMx6"
    },
    {
      "cell_type": "markdown",
      "metadata": {
        "tags": [],
        "id": "R0-OxQIRNMx6"
      },
      "source": [
        "### $\\frac{\\partial J}{\\partial w}$\n",
        "<img align=\"left\" src=\"./images/C2_W2_BP_network0_a.PNG\"     style=\" width:100px; padding: 10px 20px; \" >  Moving from right to left, the next value we would like to compute is $\\frac{\\partial J}{\\partial w}$. To do this, we first need to calculate $\\frac{\\partial a}{\\partial w}$ which describes how the output of this node, $a$, changes when the input $w$ changes a little bit."
      ],
      "id": "R0-OxQIRNMx6"
    },
    {
      "cell_type": "markdown",
      "metadata": {
        "id": "Ah7MHFnaNMx6"
      },
      "source": [
        "#### Arithmetically\n",
        "Find $\\frac{\\partial a}{\\partial w}$ by finding how $a$ changes as a result of a little change in $w$."
      ],
      "id": "Ah7MHFnaNMx6"
    },
    {
      "cell_type": "code",
      "execution_count": 8,
      "metadata": {
        "colab": {
          "base_uri": "https://localhost:8080/"
        },
        "id": "yCzl9cxHNMx7",
        "outputId": "a60c3d7e-e95e-4ec6-b753-57bbc10e9fc5"
      },
      "outputs": [
        {
          "output_type": "stream",
          "name": "stdout",
          "text": [
            "a = 11, a_epsilon = 11.003, da_dw ~= k = 3.0000000000001137 \n"
          ]
        }
      ],
      "source": [
        "w_epsilon = w + 0.001       # a  plus a small value, epsilon\n",
        "a_epsilon = 2 + 3*w_epsilon\n",
        "k = (a_epsilon - a)/0.001   # difference divided by epsilon\n",
        "print(f\"a = {a}, a_epsilon = {a_epsilon}, da_dw ~= k = {k} \")"
      ],
      "id": "yCzl9cxHNMx7"
    },
    {
      "cell_type": "markdown",
      "metadata": {
        "id": "TYNNYhUtNMx7"
      },
      "source": [
        "Calculated arithmetically,  $\\frac{\\partial a}{\\partial w} \\approx 3$. Let's try it with SymPy."
      ],
      "id": "TYNNYhUtNMx7"
    },
    {
      "cell_type": "code",
      "execution_count": 9,
      "metadata": {
        "tags": [],
        "colab": {
          "base_uri": "https://localhost:8080/",
          "height": 39
        },
        "id": "OVoLCqV4NMx7",
        "outputId": "e19ba3c2-53ef-4e39-de38-eff566f23afd"
      },
      "outputs": [
        {
          "output_type": "execute_result",
          "data": {
            "text/plain": [
              "3*w + 2"
            ],
            "text/latex": "$\\displaystyle 3 w + 2$"
          },
          "metadata": {},
          "execution_count": 9
        }
      ],
      "source": [
        "sa = 2 + 3*sw\n",
        "sa"
      ],
      "id": "OVoLCqV4NMx7"
    },
    {
      "cell_type": "code",
      "execution_count": 10,
      "metadata": {
        "colab": {
          "base_uri": "https://localhost:8080/",
          "height": 37
        },
        "id": "gL3YI0oZNMx7",
        "outputId": "242d801a-d31a-4e76-8c55-4bd3a74482d3"
      },
      "outputs": [
        {
          "output_type": "execute_result",
          "data": {
            "text/plain": [
              "3"
            ],
            "text/latex": "$\\displaystyle 3$"
          },
          "metadata": {},
          "execution_count": 10
        }
      ],
      "source": [
        "da_dw = diff(sa,sw)\n",
        "da_dw"
      ],
      "id": "gL3YI0oZNMx7"
    },
    {
      "cell_type": "markdown",
      "metadata": {
        "id": "vER8WUVyNMx7"
      },
      "source": [
        ">The next step is the interesting part:\n",
        "> - We know that a small change in $w$ will cause $a$ to change by 3 times that amount.\n",
        "> - We know that a small change in $a$ will cause $J$ to change by $2\\times a$ times that amount. (a=11 in this example)    \n",
        " so, putting these together,\n",
        "> - We  know that a small change in $w$ will cause $J$ to change by $3 \\times 2\\times a$ times that amount.\n",
        ">\n",
        "> These cascading changes go by the name of *the chain rule*.  It can be written like this:\n",
        " $$\\frac{\\partial J}{\\partial w} = \\frac{\\partial a}{\\partial w} \\frac{\\partial J}{\\partial a} $$\n",
        "\n",
        "It's worth spending some time thinking this through if it is not clear. This is a key take-away.\n",
        "\n",
        " Let's try calculating it:\n",
        ""
      ],
      "id": "vER8WUVyNMx7"
    },
    {
      "cell_type": "code",
      "execution_count": 11,
      "metadata": {
        "colab": {
          "base_uri": "https://localhost:8080/",
          "height": 39
        },
        "id": "cQCSBDuaNMx7",
        "outputId": "c40ce500-171d-4414-b9e3-5d0655a4b2f3"
      },
      "outputs": [
        {
          "output_type": "execute_result",
          "data": {
            "text/plain": [
              "6*a"
            ],
            "text/latex": "$\\displaystyle 6 a$"
          },
          "metadata": {},
          "execution_count": 11
        }
      ],
      "source": [
        "dJ_dw = da_dw * dJ_da\n",
        "dJ_dw"
      ],
      "id": "cQCSBDuaNMx7"
    },
    {
      "cell_type": "markdown",
      "metadata": {
        "id": "dW685niUNMx8"
      },
      "source": [
        "And $a$ is 11 in this example so $\\frac{\\partial J}{\\partial w} = 66$. We can check this arithmetically:"
      ],
      "id": "dW685niUNMx8"
    },
    {
      "cell_type": "code",
      "execution_count": 12,
      "metadata": {
        "colab": {
          "base_uri": "https://localhost:8080/"
        },
        "id": "_ejD_eM9NMx8",
        "outputId": "e6e55bd9-f3c9-4719-c759-3fe80f41209c"
      },
      "outputs": [
        {
          "output_type": "stream",
          "name": "stdout",
          "text": [
            "J = 121, J_epsilon = 121.06600900000001, dJ_dw ~= k = 66.0090000000082 \n"
          ]
        }
      ],
      "source": [
        "w_epsilon = w + 0.001\n",
        "a_epsilon = 2 + 3*w_epsilon\n",
        "J_epsilon = a_epsilon**2\n",
        "k = (J_epsilon - J)/0.001   # difference divided by epsilon\n",
        "print(f\"J = {J}, J_epsilon = {J_epsilon}, dJ_dw ~= k = {k} \")"
      ],
      "id": "_ejD_eM9NMx8"
    },
    {
      "cell_type": "markdown",
      "metadata": {
        "id": "KgI-u05_NMx8"
      },
      "source": [
        "OK! You can now fill the values for  $\\frac{\\partial a}{\\partial w}$ and $\\frac{\\partial J}{\\partial w}$ in  the diagram if you have not already done so."
      ],
      "id": "KgI-u05_NMx8"
    },
    {
      "cell_type": "markdown",
      "metadata": {
        "id": "TaxPoMjCNMx8"
      },
      "source": [
        "**Another view**  \n",
        "One could visualize these cascading changes this way:  \n",
        "<img align=\"center\" src=\"./images/C2_W2_BP_network0_diff.PNG\"  style=\" width:500px; padding: 10px 20px; \" >  \n",
        "A small change in $w$ is multiplied by $\\frac{\\partial a}{\\partial w}$ resulting in a change that is 3 times as large. This larger change is then multiplied by $\\frac{\\partial J}{\\partial a}$ resulting in a change that is now $3 \\times 22 = 66$ times larger."
      ],
      "id": "TaxPoMjCNMx8"
    },
    {
      "cell_type": "markdown",
      "metadata": {
        "id": "zSPbbvcHNMx8"
      },
      "source": [
        "## Computation Graph of a Simple Neural Network\n",
        "Below is a graph of the neural network used in the lecture with different values. Try and fill in the values in the boxes. Note, the interactive graphic is not particularly robust. If you run into trouble with the interface, run the cell below again to restart."
      ],
      "id": "zSPbbvcHNMx8"
    },
    {
      "cell_type": "code",
      "execution_count": 13,
      "metadata": {
        "colab": {
          "base_uri": "https://localhost:8080/",
          "height": 304
        },
        "id": "YrkHOEGZNMx8",
        "outputId": "de7117b8-f8bf-41af-dfda-d35e392bf591"
      },
      "outputs": [
        {
          "output_type": "error",
          "ename": "FileNotFoundError",
          "evalue": "[Errno 2] No such file or directory: './images/C2_W2_BP_network1.PNG'",
          "traceback": [
            "\u001b[0;31m---------------------------------------------------------------------------\u001b[0m",
            "\u001b[0;31mFileNotFoundError\u001b[0m                         Traceback (most recent call last)",
            "\u001b[0;32m<ipython-input-13-0892694ea8c0>\u001b[0m in \u001b[0;36m<cell line: 2>\u001b[0;34m()\u001b[0m\n\u001b[1;32m      1\u001b[0m \u001b[0mplt\u001b[0m\u001b[0;34m.\u001b[0m\u001b[0mclose\u001b[0m\u001b[0;34m(\u001b[0m\u001b[0;34m\"all\"\u001b[0m\u001b[0;34m)\u001b[0m\u001b[0;34m\u001b[0m\u001b[0;34m\u001b[0m\u001b[0m\n\u001b[0;32m----> 2\u001b[0;31m \u001b[0mplt_network\u001b[0m\u001b[0;34m(\u001b[0m\u001b[0mconfig_nw1\u001b[0m\u001b[0;34m,\u001b[0m \u001b[0;34m\"./images/C2_W2_BP_network1.PNG\"\u001b[0m\u001b[0;34m)\u001b[0m\u001b[0;34m\u001b[0m\u001b[0;34m\u001b[0m\u001b[0m\n\u001b[0m",
            "\u001b[0;32m/content/lab_utils_backprop.py\u001b[0m in \u001b[0;36m__init__\u001b[0;34m(self, fn, image, out)\u001b[0m\n\u001b[1;32m    115\u001b[0m         \u001b[0;31m#with self.out:\u001b[0m\u001b[0;34m\u001b[0m\u001b[0;34m\u001b[0m\u001b[0m\n\u001b[1;32m    116\u001b[0m         \u001b[0;31m#    print(\"hello world\")\u001b[0m\u001b[0;34m\u001b[0m\u001b[0;34m\u001b[0m\u001b[0m\n\u001b[0;32m--> 117\u001b[0;31m         \u001b[0mimg\u001b[0m \u001b[0;34m=\u001b[0m \u001b[0mplt\u001b[0m\u001b[0;34m.\u001b[0m\u001b[0mimread\u001b[0m\u001b[0;34m(\u001b[0m\u001b[0mimage\u001b[0m\u001b[0;34m)\u001b[0m\u001b[0;34m\u001b[0m\u001b[0;34m\u001b[0m\u001b[0m\n\u001b[0m\u001b[1;32m    118\u001b[0m         \u001b[0mself\u001b[0m\u001b[0;34m.\u001b[0m\u001b[0mfig\u001b[0m\u001b[0;34m,\u001b[0m \u001b[0mself\u001b[0m\u001b[0;34m.\u001b[0m\u001b[0max\u001b[0m \u001b[0;34m=\u001b[0m \u001b[0mplt\u001b[0m\u001b[0;34m.\u001b[0m\u001b[0msubplots\u001b[0m\u001b[0;34m(\u001b[0m\u001b[0mfigsize\u001b[0m\u001b[0;34m=\u001b[0m\u001b[0mself\u001b[0m\u001b[0;34m.\u001b[0m\u001b[0msizefig\u001b[0m\u001b[0;34m(\u001b[0m\u001b[0mimg\u001b[0m\u001b[0;34m)\u001b[0m\u001b[0;34m)\u001b[0m\u001b[0;34m\u001b[0m\u001b[0;34m\u001b[0m\u001b[0m\n\u001b[1;32m    119\u001b[0m         \u001b[0mboxes\u001b[0m \u001b[0;34m=\u001b[0m \u001b[0mfn\u001b[0m\u001b[0;34m(\u001b[0m\u001b[0mself\u001b[0m\u001b[0;34m.\u001b[0m\u001b[0max\u001b[0m\u001b[0;34m)\u001b[0m\u001b[0;34m\u001b[0m\u001b[0;34m\u001b[0m\u001b[0m\n",
            "\u001b[0;32m/usr/local/lib/python3.10/dist-packages/matplotlib/pyplot.py\u001b[0m in \u001b[0;36mimread\u001b[0;34m(fname, format)\u001b[0m\n\u001b[1;32m   2193\u001b[0m \u001b[0;34m@\u001b[0m\u001b[0m_copy_docstring_and_deprecators\u001b[0m\u001b[0;34m(\u001b[0m\u001b[0mmatplotlib\u001b[0m\u001b[0;34m.\u001b[0m\u001b[0mimage\u001b[0m\u001b[0;34m.\u001b[0m\u001b[0mimread\u001b[0m\u001b[0;34m)\u001b[0m\u001b[0;34m\u001b[0m\u001b[0;34m\u001b[0m\u001b[0m\n\u001b[1;32m   2194\u001b[0m \u001b[0;32mdef\u001b[0m \u001b[0mimread\u001b[0m\u001b[0;34m(\u001b[0m\u001b[0mfname\u001b[0m\u001b[0;34m,\u001b[0m \u001b[0mformat\u001b[0m\u001b[0;34m=\u001b[0m\u001b[0;32mNone\u001b[0m\u001b[0;34m)\u001b[0m\u001b[0;34m:\u001b[0m\u001b[0;34m\u001b[0m\u001b[0;34m\u001b[0m\u001b[0m\n\u001b[0;32m-> 2195\u001b[0;31m     \u001b[0;32mreturn\u001b[0m \u001b[0mmatplotlib\u001b[0m\u001b[0;34m.\u001b[0m\u001b[0mimage\u001b[0m\u001b[0;34m.\u001b[0m\u001b[0mimread\u001b[0m\u001b[0;34m(\u001b[0m\u001b[0mfname\u001b[0m\u001b[0;34m,\u001b[0m \u001b[0mformat\u001b[0m\u001b[0;34m)\u001b[0m\u001b[0;34m\u001b[0m\u001b[0;34m\u001b[0m\u001b[0m\n\u001b[0m\u001b[1;32m   2196\u001b[0m \u001b[0;34m\u001b[0m\u001b[0m\n\u001b[1;32m   2197\u001b[0m \u001b[0;34m\u001b[0m\u001b[0m\n",
            "\u001b[0;32m/usr/local/lib/python3.10/dist-packages/matplotlib/image.py\u001b[0m in \u001b[0;36mimread\u001b[0;34m(fname, format)\u001b[0m\n\u001b[1;32m   1561\u001b[0m             \u001b[0;34m\"``np.array(PIL.Image.open(urllib.request.urlopen(url)))``.\"\u001b[0m\u001b[0;34m\u001b[0m\u001b[0;34m\u001b[0m\u001b[0m\n\u001b[1;32m   1562\u001b[0m             )\n\u001b[0;32m-> 1563\u001b[0;31m     \u001b[0;32mwith\u001b[0m \u001b[0mimg_open\u001b[0m\u001b[0;34m(\u001b[0m\u001b[0mfname\u001b[0m\u001b[0;34m)\u001b[0m \u001b[0;32mas\u001b[0m \u001b[0mimage\u001b[0m\u001b[0;34m:\u001b[0m\u001b[0;34m\u001b[0m\u001b[0;34m\u001b[0m\u001b[0m\n\u001b[0m\u001b[1;32m   1564\u001b[0m         return (_pil_png_to_float_array(image)\n\u001b[1;32m   1565\u001b[0m                 \u001b[0;32mif\u001b[0m \u001b[0misinstance\u001b[0m\u001b[0;34m(\u001b[0m\u001b[0mimage\u001b[0m\u001b[0;34m,\u001b[0m \u001b[0mPIL\u001b[0m\u001b[0;34m.\u001b[0m\u001b[0mPngImagePlugin\u001b[0m\u001b[0;34m.\u001b[0m\u001b[0mPngImageFile\u001b[0m\u001b[0;34m)\u001b[0m \u001b[0;32melse\u001b[0m\u001b[0;34m\u001b[0m\u001b[0;34m\u001b[0m\u001b[0m\n",
            "\u001b[0;32m/usr/local/lib/python3.10/dist-packages/PIL/ImageFile.py\u001b[0m in \u001b[0;36m__init__\u001b[0;34m(self, fp, filename)\u001b[0m\n\u001b[1;32m    103\u001b[0m         \u001b[0;32mif\u001b[0m \u001b[0mis_path\u001b[0m\u001b[0;34m(\u001b[0m\u001b[0mfp\u001b[0m\u001b[0;34m)\u001b[0m\u001b[0;34m:\u001b[0m\u001b[0;34m\u001b[0m\u001b[0;34m\u001b[0m\u001b[0m\n\u001b[1;32m    104\u001b[0m             \u001b[0;31m# filename\u001b[0m\u001b[0;34m\u001b[0m\u001b[0;34m\u001b[0m\u001b[0m\n\u001b[0;32m--> 105\u001b[0;31m             \u001b[0mself\u001b[0m\u001b[0;34m.\u001b[0m\u001b[0mfp\u001b[0m \u001b[0;34m=\u001b[0m \u001b[0mopen\u001b[0m\u001b[0;34m(\u001b[0m\u001b[0mfp\u001b[0m\u001b[0;34m,\u001b[0m \u001b[0;34m\"rb\"\u001b[0m\u001b[0;34m)\u001b[0m\u001b[0;34m\u001b[0m\u001b[0;34m\u001b[0m\u001b[0m\n\u001b[0m\u001b[1;32m    106\u001b[0m             \u001b[0mself\u001b[0m\u001b[0;34m.\u001b[0m\u001b[0mfilename\u001b[0m \u001b[0;34m=\u001b[0m \u001b[0mfp\u001b[0m\u001b[0;34m\u001b[0m\u001b[0;34m\u001b[0m\u001b[0m\n\u001b[1;32m    107\u001b[0m             \u001b[0mself\u001b[0m\u001b[0;34m.\u001b[0m\u001b[0m_exclusive_fp\u001b[0m \u001b[0;34m=\u001b[0m \u001b[0;32mTrue\u001b[0m\u001b[0;34m\u001b[0m\u001b[0;34m\u001b[0m\u001b[0m\n",
            "\u001b[0;31mFileNotFoundError\u001b[0m: [Errno 2] No such file or directory: './images/C2_W2_BP_network1.PNG'"
          ]
        }
      ],
      "source": [
        "plt.close(\"all\")\n",
        "plt_network(config_nw1, \"./images/C2_W2_BP_network1.PNG\")"
      ],
      "id": "YrkHOEGZNMx8"
    },
    {
      "cell_type": "markdown",
      "metadata": {
        "id": "8utuyUlANMx8"
      },
      "source": [
        "Below, we will go through the computations required to fill in the above computation graph in detail. We start with the forward path."
      ],
      "id": "8utuyUlANMx8"
    },
    {
      "cell_type": "markdown",
      "metadata": {
        "id": "KeFAKX_INMx8"
      },
      "source": [
        "### Forward propagation\n",
        "The calculations in the forward path are the ones you have recently learned for neural networks. You can compare the values below to those you calculated for the diagram above."
      ],
      "id": "KeFAKX_INMx8"
    },
    {
      "cell_type": "code",
      "execution_count": 14,
      "metadata": {
        "colab": {
          "base_uri": "https://localhost:8080/"
        },
        "id": "hZ4dALWsNMx8",
        "outputId": "7d88c3d3-50fe-4a87-a555-577d4a9c53c2"
      },
      "outputs": [
        {
          "output_type": "stream",
          "name": "stdout",
          "text": [
            "J=4.5, d=3, a=4, c=-4\n"
          ]
        }
      ],
      "source": [
        "# Inputs and parameters\n",
        "x = 2\n",
        "w = -2\n",
        "b = 8\n",
        "y = 1\n",
        "# calculate per step values\n",
        "c = w * x\n",
        "a = c + b\n",
        "d = a - y\n",
        "J = d**2/2\n",
        "print(f\"J={J}, d={d}, a={a}, c={c}\")"
      ],
      "id": "hZ4dALWsNMx8"
    },
    {
      "cell_type": "markdown",
      "metadata": {
        "id": "LRVppCbHNMx8"
      },
      "source": [
        "### Backward propagation (Backprop)\n",
        "<img align=\"left\" src=\"./images/C2_W2_BP_network1_jdsq.PNG\"     style=\" width:100px; padding: 10px 20px; \" > As described in the lectures, backprop starts at the right and moves to the left. The first node to consider is $J = \\frac{1}{2}d^2 $ and the first step is to find $\\frac{\\partial J}{\\partial d}$\n"
      ],
      "id": "LRVppCbHNMx8"
    },
    {
      "cell_type": "markdown",
      "metadata": {
        "tags": [],
        "id": "_4RwRjrYNMx9"
      },
      "source": [
        "### $\\frac{\\partial J}{\\partial d}$"
      ],
      "id": "_4RwRjrYNMx9"
    },
    {
      "cell_type": "markdown",
      "metadata": {
        "id": "y1XeSA68NMx9"
      },
      "source": [
        "#### Arithmetically\n",
        "Find $\\frac{\\partial J}{\\partial d}$ by finding how $J$ changes as a result of a little change in $d$."
      ],
      "id": "y1XeSA68NMx9"
    },
    {
      "cell_type": "code",
      "execution_count": 15,
      "metadata": {
        "colab": {
          "base_uri": "https://localhost:8080/"
        },
        "id": "wLmEISYeNMx9",
        "outputId": "8fab704d-a59f-4e83-dadf-db4e79cae1cf"
      },
      "outputs": [
        {
          "output_type": "stream",
          "name": "stdout",
          "text": [
            "J = 4.5, J_epsilon = 4.5030005, dJ_dd ~= k = 3.0004999999997395 \n"
          ]
        }
      ],
      "source": [
        "d_epsilon = d + 0.001\n",
        "J_epsilon = d_epsilon**2/2\n",
        "k = (J_epsilon - J)/0.001   # difference divided by epsilon\n",
        "print(f\"J = {J}, J_epsilon = {J_epsilon}, dJ_dd ~= k = {k} \")"
      ],
      "id": "wLmEISYeNMx9"
    },
    {
      "cell_type": "markdown",
      "metadata": {
        "id": "ktIYEaaRNMx9"
      },
      "source": [
        "$\\frac{\\partial J}{\\partial d}$ is 3, which is the value of $d$. Our result is not exactly $d$ because our epsilon value is not infinitesimally small.\n",
        "#### Symbolically\n",
        "Now, let's use SymPy to calculate derivatives symbolically, as we did in the derivatives optional lab. We will prefix the name of the variable with an 's' to indicate this is a *symbolic* variable."
      ],
      "id": "ktIYEaaRNMx9"
    },
    {
      "cell_type": "code",
      "execution_count": 16,
      "metadata": {
        "tags": [],
        "colab": {
          "base_uri": "https://localhost:8080/",
          "height": 54
        },
        "id": "Fs0ScmkENMx9",
        "outputId": "462ce64a-c13e-465a-94bc-1de1306ad509"
      },
      "outputs": [
        {
          "output_type": "execute_result",
          "data": {
            "text/plain": [
              "d**2/2"
            ],
            "text/latex": "$\\displaystyle \\frac{d^{2}}{2}$"
          },
          "metadata": {},
          "execution_count": 16
        }
      ],
      "source": [
        "sx,sw,sb,sy,sJ = symbols('x,w,b,y,J')\n",
        "sa, sc, sd = symbols('a,c,d')\n",
        "sJ = sd**2/2\n",
        "sJ"
      ],
      "id": "Fs0ScmkENMx9"
    },
    {
      "cell_type": "code",
      "execution_count": 17,
      "metadata": {
        "tags": [],
        "colab": {
          "base_uri": "https://localhost:8080/",
          "height": 51
        },
        "id": "q2MQuHBtNMx9",
        "outputId": "a7c90184-42d7-49b5-e508-2a2a346cd334"
      },
      "outputs": [
        {
          "output_type": "execute_result",
          "data": {
            "text/plain": [
              "9/2"
            ],
            "text/latex": "$\\displaystyle \\frac{9}{2}$"
          },
          "metadata": {},
          "execution_count": 17
        }
      ],
      "source": [
        "sJ.subs([(sd,d)])"
      ],
      "id": "q2MQuHBtNMx9"
    },
    {
      "cell_type": "code",
      "execution_count": 18,
      "metadata": {
        "colab": {
          "base_uri": "https://localhost:8080/",
          "height": 39
        },
        "id": "xNalkxSbNMx-",
        "outputId": "51f27bc6-7d8f-49e9-dadb-cfd45ed3d013"
      },
      "outputs": [
        {
          "output_type": "execute_result",
          "data": {
            "text/plain": [
              "d"
            ],
            "text/latex": "$\\displaystyle d$"
          },
          "metadata": {},
          "execution_count": 18
        }
      ],
      "source": [
        "dJ_dd = diff(sJ, sd)\n",
        "dJ_dd"
      ],
      "id": "xNalkxSbNMx-"
    },
    {
      "cell_type": "markdown",
      "metadata": {
        "id": "raIlSooPNMx-"
      },
      "source": [
        "So, $\\frac{\\partial J}{\\partial d}$ = d. When $d=3$, $\\frac{\\partial J}{\\partial d}$ = 3. This matches our arithmetic calculation above.\n",
        "If you have not already done so, you can go back to the diagram above and fill in the value for $\\frac{\\partial J}{\\partial d}$."
      ],
      "id": "raIlSooPNMx-"
    },
    {
      "cell_type": "markdown",
      "metadata": {
        "id": "r9naMTHBNMx-"
      },
      "source": [
        "### $\\frac{\\partial J}{\\partial a}$\n",
        "<img align=\"left\" src=\"./images/C2_W2_BP_network1_d.PNG\"     style=\" width:100px; padding: 10px 20px; \" >  Moving from right to left, the next value we would like to compute is $\\frac{\\partial J}{\\partial a}$. To do this, we first need to calculate $\\frac{\\partial d}{\\partial a}$ which describes how the output of this node changes when the input $a$ changes a little bit. (Note, we are not interested in how the output changes when $y$ changes since $y$ is not a parameter.)"
      ],
      "id": "r9naMTHBNMx-"
    },
    {
      "cell_type": "markdown",
      "metadata": {
        "id": "GQPSMGT3NMx-"
      },
      "source": [
        "#### Arithmetically\n",
        "Find $\\frac{\\partial d}{\\partial a}$ by finding how $d$ changes as a result of a little change in $a$."
      ],
      "id": "GQPSMGT3NMx-"
    },
    {
      "cell_type": "code",
      "execution_count": 19,
      "metadata": {
        "colab": {
          "base_uri": "https://localhost:8080/"
        },
        "id": "IXrl2M9UNMx-",
        "outputId": "985706d6-7e0a-4cb9-fe45-4dfe98769590"
      },
      "outputs": [
        {
          "output_type": "stream",
          "name": "stdout",
          "text": [
            "d = 3, d_epsilon = 3.0010000000000003, dd_da ~= k = 1.000000000000334 \n"
          ]
        }
      ],
      "source": [
        "a_epsilon = a + 0.001         # a  plus a small value\n",
        "d_epsilon = a_epsilon - y\n",
        "k = (d_epsilon - d)/0.001   # difference divided by epsilon\n",
        "print(f\"d = {d}, d_epsilon = {d_epsilon}, dd_da ~= k = {k} \")"
      ],
      "id": "IXrl2M9UNMx-"
    },
    {
      "cell_type": "markdown",
      "metadata": {
        "id": "owBPnPYLNMx-"
      },
      "source": [
        "Calculated arithmetically,  $\\frac{\\partial d}{\\partial a} \\approx 1$. Let's try it with SymPy.\n",
        "#### Symbolically"
      ],
      "id": "owBPnPYLNMx-"
    },
    {
      "cell_type": "code",
      "execution_count": 20,
      "metadata": {
        "tags": [],
        "colab": {
          "base_uri": "https://localhost:8080/",
          "height": 39
        },
        "id": "X9a85NbZNMx-",
        "outputId": "d1ce4aed-b814-4394-f956-ed97e4493b1d"
      },
      "outputs": [
        {
          "output_type": "execute_result",
          "data": {
            "text/plain": [
              "a - y"
            ],
            "text/latex": "$\\displaystyle a - y$"
          },
          "metadata": {},
          "execution_count": 20
        }
      ],
      "source": [
        "sd = sa - sy\n",
        "sd"
      ],
      "id": "X9a85NbZNMx-"
    },
    {
      "cell_type": "code",
      "execution_count": 21,
      "metadata": {
        "colab": {
          "base_uri": "https://localhost:8080/",
          "height": 37
        },
        "id": "FwMMvHrINMx-",
        "outputId": "b84e3d7c-2fc7-497d-fd91-ac6ef283e9e6"
      },
      "outputs": [
        {
          "output_type": "execute_result",
          "data": {
            "text/plain": [
              "1"
            ],
            "text/latex": "$\\displaystyle 1$"
          },
          "metadata": {},
          "execution_count": 21
        }
      ],
      "source": [
        "dd_da = diff(sd,sa)\n",
        "dd_da"
      ],
      "id": "FwMMvHrINMx-"
    },
    {
      "cell_type": "markdown",
      "metadata": {
        "id": "iVUgmjzeNMx-"
      },
      "source": [
        "Calculated arithmetically,  $\\frac{\\partial d}{\\partial a}$ also equals 1.  \n",
        ">The next step is the interesting part, repeated again in this example:\n",
        "> - We know that a small change in $a$ will cause $d$ to change by 1 times that amount.\n",
        "> - We know that a small change in $d$ will cause $J$ to change by $d$ times that amount. (d=3 in this example)    \n",
        " so, putting these together,\n",
        "> - We  know that a small change in $a$ will cause $J$ to change by $1\\times d$ times that amount.\n",
        ">\n",
        ">This is again *the chain rule*.  It can be written like this:\n",
        " $$\\frac{\\partial J}{\\partial a} = \\frac{\\partial d}{\\partial a} \\frac{\\partial J}{\\partial d} $$\n",
        "\n",
        " Let's try calculating it:\n",
        ""
      ],
      "id": "iVUgmjzeNMx-"
    },
    {
      "cell_type": "code",
      "execution_count": 22,
      "metadata": {
        "colab": {
          "base_uri": "https://localhost:8080/",
          "height": 39
        },
        "id": "R363SfP5NMx_",
        "outputId": "94498914-5cea-41d8-8a40-8a41b8d6c650"
      },
      "outputs": [
        {
          "output_type": "execute_result",
          "data": {
            "text/plain": [
              "d"
            ],
            "text/latex": "$\\displaystyle d$"
          },
          "metadata": {},
          "execution_count": 22
        }
      ],
      "source": [
        "dJ_da = dd_da * dJ_dd\n",
        "dJ_da"
      ],
      "id": "R363SfP5NMx_"
    },
    {
      "cell_type": "markdown",
      "metadata": {
        "id": "A8simk1JNMx_"
      },
      "source": [
        "And $d$ is 3 in this example so $\\frac{\\partial J}{\\partial a} = 3$. We can check this arithmetically:"
      ],
      "id": "A8simk1JNMx_"
    },
    {
      "cell_type": "code",
      "execution_count": 23,
      "metadata": {
        "colab": {
          "base_uri": "https://localhost:8080/"
        },
        "id": "AjHL7oQUNMx_",
        "outputId": "ebfb6439-92bf-4903-cd97-baa8f1aa295d"
      },
      "outputs": [
        {
          "output_type": "stream",
          "name": "stdout",
          "text": [
            "J = 4.5, J_epsilon = 4.503000500000001, dJ_da ~= k = 3.0005000000006277 \n"
          ]
        }
      ],
      "source": [
        "a_epsilon = a + 0.001\n",
        "d_epsilon = a_epsilon - y\n",
        "J_epsilon = d_epsilon**2/2\n",
        "k = (J_epsilon - J)/0.001\n",
        "print(f\"J = {J}, J_epsilon = {J_epsilon}, dJ_da ~= k = {k} \")"
      ],
      "id": "AjHL7oQUNMx_"
    },
    {
      "cell_type": "markdown",
      "metadata": {
        "id": "8_A_n-PwNMx_"
      },
      "source": [
        "OK, they match! You can now fill the values for  $\\frac{\\partial d}{\\partial a}$ and $\\frac{\\partial J}{\\partial a}$ in the diagram if you have not already done so."
      ],
      "id": "8_A_n-PwNMx_"
    },
    {
      "cell_type": "markdown",
      "metadata": {
        "tags": [],
        "id": "McuzhO36NMx_"
      },
      "source": [
        "> **The steps in backprop**   \n",
        ">Now that you have worked through several nodes, we can write down the basic method:\\\n",
        "> working right to left, for each node:\n",
        ">- calculate the local derivative(s) of the node\n",
        ">- using the chain rule, combine with the derivative of the cost with respect to the node to the right.   \n",
        "\n",
        "The 'local derivative(s)' are the derivative(s) of the output of the current node with respect to all inputs or parameters.\n",
        "\n",
        "Let's continue the job. We'll be a bit less verbose now that you are familiar with the method."
      ],
      "id": "McuzhO36NMx_"
    },
    {
      "cell_type": "markdown",
      "metadata": {
        "tags": [],
        "id": "30wZnEFWNMx_"
      },
      "source": [
        "### $\\frac{\\partial J}{\\partial c}$,  $\\frac{\\partial J}{\\partial b}$\n",
        "<img align=\"left\" src=\"./images/C2_W2_BP_network1_a.PNG\"     style=\" width:100px; padding: 10px 20px; \" >The next node has two derivatives of interest. We need to calculate  $\\frac{\\partial J}{\\partial c}$ so we can propagate to the left. We also want to calculate   $\\frac{\\partial J}{\\partial b}$. Finding the derivative of the cost with respect to the parameters $w$ and $b$ is the object of backprop. We will find the local derivatives,  $\\frac{\\partial a}{\\partial c}$ and  $\\frac{\\partial a}{\\partial b}$ first and then combine those with the derivative coming from the right, $\\frac{\\partial J}{\\partial a}$."
      ],
      "id": "30wZnEFWNMx_"
    },
    {
      "cell_type": "code",
      "execution_count": 24,
      "metadata": {
        "colab": {
          "base_uri": "https://localhost:8080/",
          "height": 39
        },
        "id": "JIuwHY5QNMx_",
        "outputId": "acb0b918-1216-466c-e81d-b128c965901f"
      },
      "outputs": [
        {
          "output_type": "execute_result",
          "data": {
            "text/plain": [
              "b + c"
            ],
            "text/latex": "$\\displaystyle b + c$"
          },
          "metadata": {},
          "execution_count": 24
        }
      ],
      "source": [
        "# calculate the local derivatives da_dc, da_db\n",
        "sa = sc + sb\n",
        "sa"
      ],
      "id": "JIuwHY5QNMx_"
    },
    {
      "cell_type": "code",
      "execution_count": 25,
      "metadata": {
        "colab": {
          "base_uri": "https://localhost:8080/"
        },
        "id": "SUf4TpGaNMx_",
        "outputId": "e581f0d3-5044-464f-fa19-cd10638d0872"
      },
      "outputs": [
        {
          "output_type": "stream",
          "name": "stdout",
          "text": [
            "1 1\n"
          ]
        }
      ],
      "source": [
        "da_dc = diff(sa,sc)\n",
        "da_db = diff(sa,sb)\n",
        "print(da_dc, da_db)"
      ],
      "id": "SUf4TpGaNMx_"
    },
    {
      "cell_type": "code",
      "execution_count": 26,
      "metadata": {
        "colab": {
          "base_uri": "https://localhost:8080/"
        },
        "id": "tBUzckF6NMyA",
        "outputId": "56782885-cb39-439b-a186-495c995adc84"
      },
      "outputs": [
        {
          "output_type": "stream",
          "name": "stdout",
          "text": [
            "dJ_dc = d,  dJ_db = d\n"
          ]
        }
      ],
      "source": [
        "dJ_dc = da_dc * dJ_da\n",
        "dJ_db = da_db * dJ_da\n",
        "print(f\"dJ_dc = {dJ_dc},  dJ_db = {dJ_db}\")"
      ],
      "id": "tBUzckF6NMyA"
    },
    {
      "cell_type": "markdown",
      "metadata": {
        "id": "Ue22dC4lNMyA"
      },
      "source": [
        "And in our example, d = 3"
      ],
      "id": "Ue22dC4lNMyA"
    },
    {
      "cell_type": "markdown",
      "metadata": {
        "tags": [],
        "id": "ph09OeWaNMyA"
      },
      "source": [
        "###  $\\frac{\\partial J}{\\partial w}$\n",
        "<img align=\"left\" src=\"./images/C2_W2_BP_network1_c.PNG\"     style=\" width:100px; padding: 10px 20px; \" > The last node in this example calculates `c`. Here, we are interested in how J changes with respect to the parameter w. We will not back propagate to the input $x$, so we are not interested in $\\frac{\\partial J}{\\partial x}$. Let's start by calculating $\\frac{\\partial c}{\\partial w}$."
      ],
      "id": "ph09OeWaNMyA"
    },
    {
      "cell_type": "code",
      "execution_count": 27,
      "metadata": {
        "colab": {
          "base_uri": "https://localhost:8080/",
          "height": 39
        },
        "id": "6VkLBCbNNMyA",
        "outputId": "79246ab0-caf8-4046-d279-45ae74fa8d3d"
      },
      "outputs": [
        {
          "output_type": "execute_result",
          "data": {
            "text/plain": [
              "w*x"
            ],
            "text/latex": "$\\displaystyle w x$"
          },
          "metadata": {},
          "execution_count": 27
        }
      ],
      "source": [
        "# calculate the local derivative\n",
        "sc = sw * sx\n",
        "sc"
      ],
      "id": "6VkLBCbNNMyA"
    },
    {
      "cell_type": "code",
      "execution_count": 28,
      "metadata": {
        "colab": {
          "base_uri": "https://localhost:8080/",
          "height": 39
        },
        "id": "amUKrECXNMyA",
        "outputId": "c5ab1573-869d-42f1-a248-75b35cc17a67"
      },
      "outputs": [
        {
          "output_type": "execute_result",
          "data": {
            "text/plain": [
              "x"
            ],
            "text/latex": "$\\displaystyle x$"
          },
          "metadata": {},
          "execution_count": 28
        }
      ],
      "source": [
        "dc_dw = diff(sc,sw)\n",
        "dc_dw"
      ],
      "id": "amUKrECXNMyA"
    },
    {
      "cell_type": "markdown",
      "metadata": {
        "id": "WuFnjV_DNMyA"
      },
      "source": [
        "This derivative is a bit more exciting than the last one. This will vary depending on the value of $x$. This is 2 in our example.\n",
        "\n",
        "Combine this with $\\frac{\\partial J}{\\partial c}$ to find $\\frac{\\partial J}{\\partial w}$."
      ],
      "id": "WuFnjV_DNMyA"
    },
    {
      "cell_type": "code",
      "execution_count": 29,
      "metadata": {
        "colab": {
          "base_uri": "https://localhost:8080/",
          "height": 39
        },
        "id": "gHqH4ZJ7NMyA",
        "outputId": "c117c017-dd9d-4f7f-b027-5e82a5231d95"
      },
      "outputs": [
        {
          "output_type": "execute_result",
          "data": {
            "text/plain": [
              "d*x"
            ],
            "text/latex": "$\\displaystyle d x$"
          },
          "metadata": {},
          "execution_count": 29
        }
      ],
      "source": [
        "dJ_dw = dc_dw * dJ_dc\n",
        "dJ_dw"
      ],
      "id": "gHqH4ZJ7NMyA"
    },
    {
      "cell_type": "code",
      "execution_count": 30,
      "metadata": {
        "colab": {
          "base_uri": "https://localhost:8080/"
        },
        "id": "K0_NWJp7NMyA",
        "outputId": "4db738df-5753-4303-85c7-02794748d8f6"
      },
      "outputs": [
        {
          "output_type": "stream",
          "name": "stdout",
          "text": [
            "dJ_dw = 2*d\n"
          ]
        }
      ],
      "source": [
        "print(f\"dJ_dw = {dJ_dw.subs([(sd,d),(sx,x)])}\")"
      ],
      "id": "K0_NWJp7NMyA"
    },
    {
      "cell_type": "markdown",
      "metadata": {
        "id": "NH0vb5qCNMyB"
      },
      "source": [
        "$d=3$,  so $\\frac{\\partial J}{\\partial w} = 6$ for our example.   \n",
        "Let's test this arithmetically:"
      ],
      "id": "NH0vb5qCNMyB"
    },
    {
      "cell_type": "code",
      "execution_count": 31,
      "metadata": {
        "colab": {
          "base_uri": "https://localhost:8080/"
        },
        "id": "pp98NTuzNMyB",
        "outputId": "981ca01d-bb21-47fa-82ee-5af960a5f851"
      },
      "outputs": [
        {
          "output_type": "stream",
          "name": "stdout",
          "text": [
            "J = 4.5, J_epsilon = 4.506002, dJ_dw ~= k = 6.001999999999619 \n"
          ]
        }
      ],
      "source": [
        "J_epsilon = ((w+0.001)*x+b - y)**2/2\n",
        "k = (J_epsilon - J)/0.001\n",
        "print(f\"J = {J}, J_epsilon = {J_epsilon}, dJ_dw ~= k = {k} \")"
      ],
      "id": "pp98NTuzNMyB"
    },
    {
      "cell_type": "markdown",
      "metadata": {
        "id": "eG1kRWaSNMyB"
      },
      "source": [
        "They match! Great. You can add $\\frac{\\partial J}{\\partial w}$ to the diagram above and our analysis is complete."
      ],
      "id": "eG1kRWaSNMyB"
    },
    {
      "cell_type": "markdown",
      "metadata": {
        "id": "TV36-rSZNMyB"
      },
      "source": [
        "## Congratulations!\n",
        "You've worked through an example of back propagation using a computation graph. You can apply this to larger examples by following the same node by node approach."
      ],
      "id": "TV36-rSZNMyB"
    },
    {
      "cell_type": "code",
      "source": [],
      "metadata": {
        "id": "KN-fCcw_Nevq"
      },
      "id": "KN-fCcw_Nevq",
      "execution_count": 31,
      "outputs": []
    }
  ],
  "metadata": {
    "kernelspec": {
      "display_name": "Python 3",
      "language": "python",
      "name": "python3"
    },
    "language_info": {
      "codemirror_mode": {
        "name": "ipython",
        "version": 3
      },
      "file_extension": ".py",
      "mimetype": "text/x-python",
      "name": "python",
      "nbconvert_exporter": "python",
      "pygments_lexer": "ipython3",
      "version": "3.7.6"
    },
    "colab": {
      "provenance": [],
      "include_colab_link": true
    }
  },
  "nbformat": 4,
  "nbformat_minor": 5
}