{
  "nbformat": 4,
  "nbformat_minor": 0,
  "metadata": {
    "colab": {
      "provenance": [],
      "authorship_tag": "ABX9TyN4mb6A0YAFb4EMZfFt+ze0",
      "include_colab_link": true
    },
    "kernelspec": {
      "name": "python3",
      "display_name": "Python 3"
    },
    "language_info": {
      "name": "python"
    }
  },
  "cells": [
    {
      "cell_type": "markdown",
      "metadata": {
        "id": "view-in-github",
        "colab_type": "text"
      },
      "source": [
        "<a href=\"https://colab.research.google.com/github/mahault/ContinuousTraining/blob/main/Numpy_arrays.ipynb\" target=\"_parent\"><img src=\"https://colab.research.google.com/assets/colab-badge.svg\" alt=\"Open In Colab\"/></a>"
      ]
    },
    {
      "cell_type": "code",
      "execution_count": 1,
      "metadata": {
        "colab": {
          "base_uri": "https://localhost:8080/"
        },
        "id": "lTCCco7zRoWI",
        "outputId": "c45f7921-68ab-48db-b1fa-31672c8a70df"
      },
      "outputs": [
        {
          "output_type": "stream",
          "name": "stdout",
          "text": [
            "[1 2 3 4 5]\n"
          ]
        }
      ],
      "source": [
        "import numpy as np  # Importing NumPy\n",
        "\n",
        "# Creating a list\n",
        "my_list = [1, 2, 3, 4, 5]\n",
        "\n",
        "# Converting the list to a NumPy array\n",
        "my_array = np.array(my_list)\n",
        "\n",
        "print(my_array)  # Displaying the NumPy array\n",
        "\n"
      ]
    },
    {
      "cell_type": "code",
      "source": [
        "# Creating a nested list\n",
        "nested_list = [[1, 2, 3], [4, 5, 6], [7, 8, 9]]\n",
        "\n",
        "# Converting the nested list to a NumPy array\n",
        "nested_array = np.array(nested_list)\n",
        "\n",
        "print(nested_array)  # Displaying the NumPy array"
      ],
      "metadata": {
        "colab": {
          "base_uri": "https://localhost:8080/"
        },
        "id": "8nbwQmigRx4U",
        "outputId": "278855c6-6a7a-40b6-de10-91ea8adf815a"
      },
      "execution_count": 2,
      "outputs": [
        {
          "output_type": "stream",
          "name": "stdout",
          "text": [
            "[[1 2 3]\n",
            " [4 5 6]\n",
            " [7 8 9]]\n"
          ]
        }
      ]
    },
    {
      "cell_type": "code",
      "source": [
        "# Using np.arange to create an array from 1 to 10\n",
        "array_range = np.arange(1, 11)\n",
        "\n",
        "print(array_range)  # Displaying the array"
      ],
      "metadata": {
        "colab": {
          "base_uri": "https://localhost:8080/"
        },
        "id": "Kf_hb8uZR_wX",
        "outputId": "e1f509c7-fbed-400e-8293-3be44d3dd1c5"
      },
      "execution_count": 3,
      "outputs": [
        {
          "output_type": "stream",
          "name": "stdout",
          "text": [
            "[ 1  2  3  4  5  6  7  8  9 10]\n"
          ]
        }
      ]
    },
    {
      "cell_type": "code",
      "source": [
        "# Using np.arange to create an array of even numbers from 2 to 10\n",
        "even_numbers = np.arange(2, 11, 2)\n",
        "\n",
        "print(even_numbers)  # Displaying the array"
      ],
      "metadata": {
        "colab": {
          "base_uri": "https://localhost:8080/"
        },
        "id": "dLyi50RPSLHy",
        "outputId": "070bb994-851c-4864-9618-ff58e2406e40"
      },
      "execution_count": 4,
      "outputs": [
        {
          "output_type": "stream",
          "name": "stdout",
          "text": [
            "[ 2  4  6  8 10]\n"
          ]
        }
      ]
    },
    {
      "cell_type": "code",
      "source": [
        "# Creating a one-dimensional array of zeros with 5 elements\n",
        "zeros_array_1d = np.zeros(5)\n",
        "\n",
        "print(\"One-dimensional array of zeros:\", zeros_array_1d)"
      ],
      "metadata": {
        "colab": {
          "base_uri": "https://localhost:8080/"
        },
        "id": "wXNsgtZWSSeB",
        "outputId": "65ca1927-58b2-41fc-b8b0-dcab9c373cc3"
      },
      "execution_count": 5,
      "outputs": [
        {
          "output_type": "stream",
          "name": "stdout",
          "text": [
            "One-dimensional array of zeros: [0. 0. 0. 0. 0.]\n"
          ]
        }
      ]
    },
    {
      "cell_type": "code",
      "source": [
        "# Creating a two-dimensional array of zeros with 3 rows and 4 columns\n",
        "zeros_array_2d = np.zeros((3, 4))\n",
        "\n",
        "print(\"Two-dimensional array of zeros:\\n\", zeros_array_2d)"
      ],
      "metadata": {
        "colab": {
          "base_uri": "https://localhost:8080/"
        },
        "id": "zRHY-9bcSY4_",
        "outputId": "134b4789-e539-4946-9384-46b1f5017507"
      },
      "execution_count": 6,
      "outputs": [
        {
          "output_type": "stream",
          "name": "stdout",
          "text": [
            "Two-dimensional array of zeros:\n",
            " [[0. 0. 0. 0.]\n",
            " [0. 0. 0. 0.]\n",
            " [0. 0. 0. 0.]]\n"
          ]
        }
      ]
    },
    {
      "cell_type": "code",
      "source": [
        "# Creating a one-dimensional array of ones with 5 elements\n",
        "ones_array_1d = np.ones(5)\n",
        "\n",
        "print(\"One-dimensional array of ones:\", ones_array_1d)"
      ],
      "metadata": {
        "colab": {
          "base_uri": "https://localhost:8080/"
        },
        "id": "G6sZtY61Saq0",
        "outputId": "220ca6c2-9200-430d-f3b9-0bc3f8924da3"
      },
      "execution_count": 7,
      "outputs": [
        {
          "output_type": "stream",
          "name": "stdout",
          "text": [
            "One-dimensional array of ones: [1. 1. 1. 1. 1.]\n"
          ]
        }
      ]
    },
    {
      "cell_type": "code",
      "source": [
        "# Creating a two-dimensional array of ones with 3 rows and 4 columns\n",
        "ones_array_2d = np.ones((3, 4))\n",
        "\n",
        "print(\"Two-dimensional array of ones:\\n\", ones_array_2d)"
      ],
      "metadata": {
        "colab": {
          "base_uri": "https://localhost:8080/"
        },
        "id": "fhG_DybLSoQe",
        "outputId": "529b19b2-f65e-4683-d620-47fb986c3366"
      },
      "execution_count": 8,
      "outputs": [
        {
          "output_type": "stream",
          "name": "stdout",
          "text": [
            "Two-dimensional array of ones:\n",
            " [[1. 1. 1. 1.]\n",
            " [1. 1. 1. 1.]\n",
            " [1. 1. 1. 1.]]\n"
          ]
        }
      ]
    },
    {
      "cell_type": "code",
      "source": [
        "# Creating an array of 10 numbers evenly spaced between 1 and 10\n",
        "linspace_array = np.linspace(1, 10, 10)\n",
        "\n",
        "print(linspace_array)  # Displaying the array"
      ],
      "metadata": {
        "colab": {
          "base_uri": "https://localhost:8080/"
        },
        "id": "qCsJOQckSqXj",
        "outputId": "2c9ba734-f194-4dc3-b66b-d0b005c31725"
      },
      "execution_count": 9,
      "outputs": [
        {
          "output_type": "stream",
          "name": "stdout",
          "text": [
            "[ 1.  2.  3.  4.  5.  6.  7.  8.  9. 10.]\n"
          ]
        }
      ]
    },
    {
      "cell_type": "code",
      "source": [
        "# Creating an array of 9 numbers evenly spaced between 1 and 10, excluding the endpoint\n",
        "linspace_array_no_endpoint = np.linspace(1, 10, 9, endpoint=False)\n",
        "\n",
        "print(linspace_array_no_endpoint)  # Displaying the array"
      ],
      "metadata": {
        "colab": {
          "base_uri": "https://localhost:8080/"
        },
        "id": "wJ1fKfDySz_W",
        "outputId": "75ceaacf-e96e-43a5-efb6-48d3df0d4562"
      },
      "execution_count": 10,
      "outputs": [
        {
          "output_type": "stream",
          "name": "stdout",
          "text": [
            "[1. 2. 3. 4. 5. 6. 7. 8. 9.]\n"
          ]
        }
      ]
    },
    {
      "cell_type": "code",
      "source": [
        "# Creating a 4x4 identity matrix\n",
        "identity_matrix = np.eye(4)\n",
        "\n",
        "print(\"4x4 Identity Matrix:\\n\", identity_matrix)"
      ],
      "metadata": {
        "colab": {
          "base_uri": "https://localhost:8080/"
        },
        "id": "Sl4z7cPuS1aO",
        "outputId": "dac6c952-24b8-4b19-b837-b1510ce30fd5"
      },
      "execution_count": 11,
      "outputs": [
        {
          "output_type": "stream",
          "name": "stdout",
          "text": [
            "4x4 Identity Matrix:\n",
            " [[1. 0. 0. 0.]\n",
            " [0. 1. 0. 0.]\n",
            " [0. 0. 1. 0.]\n",
            " [0. 0. 0. 1.]]\n"
          ]
        }
      ]
    },
    {
      "cell_type": "code",
      "source": [
        "# Creating an identity matrix with 4 rows and 5 columns\n",
        "identity_matrix_non_square = np.eye(4, 5)\n",
        "\n",
        "print(\"Identity Matrix (4 rows, 5 columns):\\n\", identity_matrix_non_square)"
      ],
      "metadata": {
        "colab": {
          "base_uri": "https://localhost:8080/"
        },
        "id": "MtN343nrS7ER",
        "outputId": "e1ceee33-1e55-4c23-d2c7-200464c08883"
      },
      "execution_count": 12,
      "outputs": [
        {
          "output_type": "stream",
          "name": "stdout",
          "text": [
            "Identity Matrix (4 rows, 5 columns):\n",
            " [[1. 0. 0. 0. 0.]\n",
            " [0. 1. 0. 0. 0.]\n",
            " [0. 0. 1. 0. 0.]\n",
            " [0. 0. 0. 1. 0.]]\n"
          ]
        }
      ]
    },
    {
      "cell_type": "code",
      "source": [
        "# Creating a one-dimensional array of 5 random numbers\n",
        "random_array_1d = np.random.rand(5)\n",
        "\n",
        "print(\"One-dimensional random array:\", random_array_1d)"
      ],
      "metadata": {
        "colab": {
          "base_uri": "https://localhost:8080/"
        },
        "id": "aYjMoukwS9Q0",
        "outputId": "5adb0fb1-b7d6-4fa5-9435-b164e295788b"
      },
      "execution_count": 13,
      "outputs": [
        {
          "output_type": "stream",
          "name": "stdout",
          "text": [
            "One-dimensional random array: [0.54611676 0.29626785 0.88596586 0.85203475 0.48796763]\n"
          ]
        }
      ]
    },
    {
      "cell_type": "code",
      "source": [
        "# Creating a two-dimensional array of random numbers with 3 rows and 4 columns\n",
        "random_array_2d = np.random.rand(3, 4)\n",
        "\n",
        "print(\"Two-dimensional random array:\\n\", random_array_2d)"
      ],
      "metadata": {
        "colab": {
          "base_uri": "https://localhost:8080/"
        },
        "id": "LtYRXvldTFhF",
        "outputId": "b41e37c1-67fe-4f42-94b3-56cc6bdc6562"
      },
      "execution_count": 14,
      "outputs": [
        {
          "output_type": "stream",
          "name": "stdout",
          "text": [
            "Two-dimensional random array:\n",
            " [[0.76319793 0.08871188 0.6499649  0.60116395]\n",
            " [0.32086008 0.49763427 0.4953737  0.22569973]\n",
            " [0.85886913 0.319825   0.68143819 0.42263472]]\n"
          ]
        }
      ]
    },
    {
      "cell_type": "code",
      "source": [
        "# Creating a two-dimensional array of random numbers from a standard normal distribution with 3 rows and 4 columns\n",
        "random_normal_array_2d = np.random.randn(3, 4)\n",
        "\n",
        "print(\"Two-dimensional random normal array:\\n\", random_normal_array_2d)"
      ],
      "metadata": {
        "colab": {
          "base_uri": "https://localhost:8080/"
        },
        "id": "5FSOA-QRTHzS",
        "outputId": "50788623-3a4c-4cd2-829d-fde5b8530572"
      },
      "execution_count": 15,
      "outputs": [
        {
          "output_type": "stream",
          "name": "stdout",
          "text": [
            "Two-dimensional random normal array:\n",
            " [[-1.06661313 -2.51828066 -0.57108241  0.07395008]\n",
            " [-1.93762202  0.51031295  0.19978521  0.16350094]\n",
            " [-1.79854358 -0.46184302  2.05433691 -1.84388493]]\n"
          ]
        }
      ]
    },
    {
      "cell_type": "code",
      "source": [
        "# Creating a one-dimensional array of 5 random numbers from a standard normal distribution\n",
        "random_normal_array_1d = np.random.randn(5)\n",
        "\n",
        "print(\"One-dimensional random normal array:\", random_normal_array_1d)"
      ],
      "metadata": {
        "colab": {
          "base_uri": "https://localhost:8080/"
        },
        "id": "T3zVpbDzTQxS",
        "outputId": "0d1586cf-842b-4213-9b23-6d65b48d9e89"
      },
      "execution_count": 16,
      "outputs": [
        {
          "output_type": "stream",
          "name": "stdout",
          "text": [
            "One-dimensional random normal array: [-1.28667639 -1.85094711 -1.18425605 -1.41915169  1.20156121]\n"
          ]
        }
      ]
    },
    {
      "cell_type": "code",
      "source": [
        "# Generating a single random integer\n",
        "random_integer = np.random.randint(1, 10)\n",
        "\n",
        "print(\"Random integer:\", random_integer)"
      ],
      "metadata": {
        "colab": {
          "base_uri": "https://localhost:8080/"
        },
        "id": "ZyesRjh_TS-1",
        "outputId": "3d74ca5f-bd40-4174-df95-03949a1114d2"
      },
      "execution_count": 17,
      "outputs": [
        {
          "output_type": "stream",
          "name": "stdout",
          "text": [
            "Random integer: 2\n"
          ]
        }
      ]
    },
    {
      "cell_type": "code",
      "source": [
        "# Creating a one-dimensional array of 5 random integers\n",
        "random_integers_1d = np.random.randint(1, 10, size=5)\n",
        "\n",
        "print(\"One-dimensional array of random integers:\", random_integers_1d)"
      ],
      "metadata": {
        "colab": {
          "base_uri": "https://localhost:8080/"
        },
        "id": "OyKFneHeTbLr",
        "outputId": "d13a84d4-57b0-4bff-d696-0d1a8a376f22"
      },
      "execution_count": 18,
      "outputs": [
        {
          "output_type": "stream",
          "name": "stdout",
          "text": [
            "One-dimensional array of random integers: [1 1 2 3 7]\n"
          ]
        }
      ]
    },
    {
      "cell_type": "code",
      "source": [
        "# Setting the seed for reproducibility\n",
        "np.random.seed(42)\n",
        "\n",
        "# Now, any random operation will produce the same results in any run\n",
        "random_array = np.random.rand(5)  # Creating a one-dimensional array of 5 random numbers\n",
        "\n",
        "print(\"Random array with seed 42:\", random_array)"
      ],
      "metadata": {
        "colab": {
          "base_uri": "https://localhost:8080/"
        },
        "id": "sClPAckmTc33",
        "outputId": "24c07353-beb3-4c4c-b5de-e950da06511f"
      },
      "execution_count": 19,
      "outputs": [
        {
          "output_type": "stream",
          "name": "stdout",
          "text": [
            "Random array with seed 42: [0.37454012 0.95071431 0.73199394 0.59865848 0.15601864]\n"
          ]
        }
      ]
    },
    {
      "cell_type": "code",
      "source": [
        "# Step 1: Create an array with np.arange\n",
        "arange_array = np.arange(1, 26)  # Creates an array from 1 to 25\n",
        "\n",
        "# Step 2: Create a random array with np.random.randint\n",
        "random_array = np.random.randint(1, 100, size=25)  # Creates a random array of 25 numbers from 1 to 99\n",
        "\n",
        "# Step 3: Find the shape of both arrays\n",
        "print(\"Shape of arange array:\", arange_array.shape)\n",
        "print(\"Shape of random array:\", random_array.shape)\n",
        "\n",
        "# Step 4: Reshape the arange array to 5x5\n",
        "arange_array_reshaped = arange_array.reshape(5, 5)\n",
        "\n",
        "print(\"Reshaped arange array to 5x5:\\n\", arange_array_reshaped)"
      ],
      "metadata": {
        "colab": {
          "base_uri": "https://localhost:8080/"
        },
        "id": "T06h8ovhTkvf",
        "outputId": "0d1cfd85-a169-4224-a85e-a901a21e98f1"
      },
      "execution_count": 20,
      "outputs": [
        {
          "output_type": "stream",
          "name": "stdout",
          "text": [
            "Shape of arange array: (25,)\n",
            "Shape of random array: (25,)\n",
            "Reshaped arange array to 5x5:\n",
            " [[ 1  2  3  4  5]\n",
            " [ 6  7  8  9 10]\n",
            " [11 12 13 14 15]\n",
            " [16 17 18 19 20]\n",
            " [21 22 23 24 25]]\n"
          ]
        }
      ]
    },
    {
      "cell_type": "code",
      "source": [
        "# Finding the maximum value in the random array\n",
        "max_value = np.max(random_array)\n",
        "print(\"Maximum value in the random array:\", max_value)\n",
        "\n",
        "# Finding the index of the maximum value in the random array\n",
        "max_index = np.argmax(random_array)\n",
        "print(\"Index of the maximum value:\", max_index)"
      ],
      "metadata": {
        "colab": {
          "base_uri": "https://localhost:8080/"
        },
        "id": "-rULT5hxT7Na",
        "outputId": "ef2e2985-3399-4992-fff8-b150704cc278"
      },
      "execution_count": 21,
      "outputs": [
        {
          "output_type": "stream",
          "name": "stdout",
          "text": [
            "Maximum value in the random array: 91\n",
            "Index of the maximum value: 23\n"
          ]
        }
      ]
    },
    {
      "cell_type": "code",
      "source": [
        "# Finding the minimum value in the random array\n",
        "min_value = np.min(random_array)\n",
        "print(\"Minimum value in the random array:\", min_value)\n",
        "\n",
        "# Finding the index of the minimum value in the random array\n",
        "min_index = np.argmin(random_array)\n",
        "print(\"Index of the minimum value:\", min_index)"
      ],
      "metadata": {
        "colab": {
          "base_uri": "https://localhost:8080/"
        },
        "id": "2krAmal0UI9d",
        "outputId": "02f8f71f-4cfb-499f-fd9c-2b4eb626cba8"
      },
      "execution_count": 22,
      "outputs": [
        {
          "output_type": "stream",
          "name": "stdout",
          "text": [
            "Minimum value in the random array: 2\n",
            "Index of the minimum value: 9\n"
          ]
        }
      ]
    },
    {
      "cell_type": "code",
      "source": [],
      "metadata": {
        "id": "zFQnQdX-URpg"
      },
      "execution_count": null,
      "outputs": []
    }
  ]
}